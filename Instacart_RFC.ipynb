{
 "cells": [
  {
   "cell_type": "code",
   "execution_count": 1,
   "metadata": {},
   "outputs": [],
   "source": [
    "##Random Forest\n",
    "from sklearn.ensemble import RandomForestClassifier\n",
    "from sklearn.model_selection import train_test_split\n",
    "from sklearn.metrics import f1_score, classification_report, confusion_matrix\n",
    "import pandas as pd\n",
    "from sklearn.feature_selection import SelectFromModel"
   ]
  },
  {
   "cell_type": "code",
   "execution_count": 2,
   "metadata": {},
   "outputs": [],
   "source": [
    "#load data\n",
    "data_train=pd.read_csv('data_train.csv' )"
   ]
  },
  {
   "cell_type": "code",
   "execution_count": 3,
   "metadata": {},
   "outputs": [],
   "source": [
    "#train and test split\n",
    "X_train, X_val, y_train, y_val = train_test_split(data_train.drop('reordered', axis=1), data_train.reordered, test_size=0.8, random_state=50)"
   ]
  },
  {
   "cell_type": "code",
   "execution_count": 4,
   "metadata": {},
   "outputs": [
    {
     "name": "stdout",
     "output_type": "stream",
     "text": [
      "F1 Score:  0.36460488948830344\n",
      "Classification Report\n",
      "                precision    recall  f1-score   support\n",
      "\n",
      "         0.0       0.94      0.89      0.91   6117042\n",
      "         1.0       0.31      0.44      0.36    662687\n",
      "\n",
      "    accuracy                           0.85   6779729\n",
      "   macro avg       0.62      0.67      0.64   6779729\n",
      "weighted avg       0.88      0.85      0.86   6779729\n",
      "\n",
      "Confusion Matrix\n",
      "  [[5465891  651151]\n",
      " [ 369772  292915]]\n"
     ]
    }
   ],
   "source": [
    "#perform train dataframe with RandomForestClassifier. \n",
    "rfc = RandomForestClassifier(n_estimators=10, n_jobs=-1 ,random_state=50)\n",
    "model = rfc.fit(X_train, y_train) \n",
    "\n",
    "# Predict on validation set with fixed threshold\n",
    "y_val_pred = (model.predict_proba(X_val)[:,1] >= 0.30).astype(int)\n",
    "\n",
    "print(\"F1 Score: \",f1_score(y_val, y_val_pred, average='binary'))\n",
    "print(\"Classification Report\\n \", classification_report(y_val, y_val_pred))\n",
    "print(\"Confusion Matrix\\n \", confusion_matrix(y_val, y_val_pred))"
   ]
  },
  {
   "cell_type": "code",
   "execution_count": 5,
   "metadata": {},
   "outputs": [
    {
     "name": "stdout",
     "output_type": "stream",
     "text": [
      "                   importance\n",
      "u_reordered_ratio    0.270822\n",
      "p_reorder_ratio      0.199946\n",
      "p_total_purchases    0.189392\n",
      "times_last5          0.103124\n",
      "u_total_orders       0.099090\n",
      "uxp_reorder_ratio    0.086573\n",
      "uxp_total_bought     0.051052\n"
     ]
    }
   ],
   "source": [
    "#Feature importance\n",
    "feature_importances_df = pd.DataFrame(model.feature_importances_, index = X_train.columns, columns=['importance']).sort_values('importance',ascending=False)\n",
    "print(feature_importances_df)"
   ]
  },
  {
   "cell_type": "code",
   "execution_count": 25,
   "metadata": {},
   "outputs": [
    {
     "data": {
      "text/plain": [
       "<matplotlib.axes._subplots.AxesSubplot at 0x1a19831a20>"
      ]
     },
     "execution_count": 25,
     "metadata": {},
     "output_type": "execute_result"
    },
    {
     "data": {
      "image/png": "[encoded data removed]",
      "text/plain": [
       "<Figure size 432x288 with 1 Axes>"
      ]
     },
     "metadata": {
      "needs_background": "light"
     },
     "output_type": "display_data"
    }
   ],
   "source": [
    "feat_importances = pd.Series(model.feature_importances_, index=X_train.columns).sort_values()\n",
    "feat_importances.plot(kind='barh')"
   ]
  },
  {
   "cell_type": "code",
   "execution_count": 15,
   "metadata": {},
   "outputs": [],
   "source": [
    "##modeling with different set of features\n",
    "#Feature Selection\n",
    "model2 = SelectFromModel(rfc, prefit=True, max_features=4)\n",
    "feature_idx = model2.get_support()\n",
    "feature_names = data_train.drop('reordered', axis=1).columns[feature_idx]\n",
    "X_NEW = model2.transform(data_train.drop('reordered', axis=1))"
   ]
  },
  {
   "cell_type": "code",
   "execution_count": 8,
   "metadata": {},
   "outputs": [
    {
     "name": "stdout",
     "output_type": "stream",
     "text": [
      "F1 Score:  0.16139158262712947\n",
      "Classification Report\n",
      "                precision    recall  f1-score   support\n",
      "\n",
      "         0.0       0.91      0.87      0.89   6117042\n",
      "         1.0       0.14      0.19      0.16    662687\n",
      "\n",
      "    accuracy                           0.81   6779729\n",
      "   macro avg       0.52      0.53      0.53   6779729\n",
      "weighted avg       0.83      0.81      0.82   6779729\n",
      "\n",
      "Confusion Matrix\n",
      "  [[5336517  780525]\n",
      " [ 536003  126684]]\n"
     ]
    }
   ],
   "source": [
    "#modeling with new features\n",
    "X_train2, X_val2, y_train2, y_val2 = train_test_split(X_NEW, data_train.reordered, test_size=0.8, random_state=50)\n",
    "rfc2 = RandomForestClassifier(n_estimators=10, n_jobs=-1 ,random_state=50)\n",
    "model3 = rfc2.fit(X_train2, y_train2) \n",
    "\n",
    "y_val_pred2 = (model3.predict_proba(X_val2)[:,1] >= 0.30).astype(int)\n",
    "\n",
    "print(\"F1 Score: \",f1_score(y_val2, y_val_pred2, average='binary'))\n",
    "print(\"Classification Report\\n \", classification_report(y_val2, y_val_pred2))\n",
    "print(\"Confusion Matrix\\n \", confusion_matrix(y_val2, y_val_pred2))"
   ]
  },
  {
   "cell_type": "code",
   "execution_count": 22,
   "metadata": {},
   "outputs": [
    {
     "name": "stdout",
     "output_type": "stream",
     "text": [
      "                   importance\n",
      "u_reordered_ratio    0.777144\n",
      "p_reorder_ratio      0.120668\n",
      "p_total_purchases    0.102187\n"
     ]
    }
   ],
   "source": [
    "#New Feature importance\n",
    "X_NEW = pd.DataFrame(X_NEW, columns= feature_names)\n",
    "feature_importances_df2 = pd.DataFrame(model3.feature_importances_, index = X_NEW.columns, columns=['importance']).sort_values('importance',ascending=False)\n",
    "print(feature_importances_df2)"
   ]
  },
  {
   "cell_type": "code",
   "execution_count": 24,
   "metadata": {},
   "outputs": [
    {
     "data": {
      "text/plain": [
       "<matplotlib.axes._subplots.AxesSubplot at 0x1a19741a20>"
      ]
     },
     "execution_count": 24,
     "metadata": {},
     "output_type": "execute_result"
    },
    {
     "data": {
      "image/png": "[encoded data removed]",
      "text/plain": [
       "<Figure size 432x288 with 1 Axes>"
      ]
     },
     "metadata": {
      "needs_background": "light"
     },
     "output_type": "display_data"
    }
   ],
   "source": [
    "#Feature Importance Plot\n",
    "feat_importances2 = pd.Series(model3.feature_importances_, index = X_NEW.columns).sort_values()\n",
    "feat_importances2.plot(kind='barh')"
   ]
  }
 ],
 "metadata": {
  "kernelspec": {
   "display_name": "Python 3",
   "language": "python",
   "name": "python3"
  },
  "language_info": {
   "codemirror_mode": {
    "name": "ipython",
    "version": 3
   },
   "file_extension": ".py",
   "mimetype": "text/x-python",
   "name": "python",
   "nbconvert_exporter": "python",
   "pygments_lexer": "ipython3",
   "version": "3.7.3"
  }
 },
 "nbformat": 4,
 "nbformat_minor": 2
}
