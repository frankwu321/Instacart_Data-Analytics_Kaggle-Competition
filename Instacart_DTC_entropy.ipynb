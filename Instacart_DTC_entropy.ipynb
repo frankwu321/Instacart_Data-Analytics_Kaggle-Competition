{
 "cells": [
  {
   "cell_type": "code",
   "execution_count": 10,
   "metadata": {},
   "outputs": [],
   "source": [
    "##DecisionTreeClassifier\n",
    "import numpy as np \n",
    "import pandas as pd \n",
    "from sklearn.tree import DecisionTreeClassifier \n",
    "from sklearn.metrics import f1_score, classification_report, confusion_matrix\n",
    "from sklearn.model_selection import train_test_split\n",
    "from sklearn.feature_selection import SelectFromModel"
   ]
  },
  {
   "cell_type": "code",
   "execution_count": 2,
   "metadata": {},
   "outputs": [],
   "source": [
    "#load data\n",
    "data_train=pd.read_csv('data_train.csv' )"
   ]
  },
  {
   "cell_type": "code",
   "execution_count": 3,
   "metadata": {},
   "outputs": [],
   "source": [
    "#train and test split\n",
    "X_train, X_val, y_train, y_val = train_test_split(data_train.drop('reordered', axis=1), data_train.reordered, test_size = 0.8, random_state = 50) "
   ]
  },
  {
   "cell_type": "code",
   "execution_count": 4,
   "metadata": {},
   "outputs": [
    {
     "name": "stdout",
     "output_type": "stream",
     "text": [
      "F1 Score:  0.36635005253927283\n",
      "Classification Report\n",
      "                precision    recall  f1-score   support\n",
      "\n",
      "         0.0       0.93      0.97      0.95   6117042\n",
      "         1.0       0.49      0.29      0.37    662687\n",
      "\n",
      "    accuracy                           0.90   6779729\n",
      "   macro avg       0.71      0.63      0.66   6779729\n",
      "weighted avg       0.88      0.90      0.89   6779729\n",
      "\n",
      "Confusion Matrix\n",
      "  [[5910655  206387]\n",
      " [ 467795  194892]]\n"
     ]
    }
   ],
   "source": [
    "#perform train dataframe with DecisionTreeClassifier entropy. \n",
    "clf_entropy = DecisionTreeClassifier( criterion = \"entropy\", random_state = 50, max_depth = 3, min_samples_leaf = 5) \n",
    "model = clf_entropy.fit(X_train, y_train)\n",
    "\n",
    "# Predict on validation set with fixed threshold\n",
    "y_val_pred = (model.predict_proba(X_val)[:,1] >= 0.30).astype(int)\n",
    "\n",
    "print(\"F1 Score: \",f1_score(y_val, y_val_pred, average='binary'))\n",
    "print(\"Classification Report\\n \", classification_report(y_val, y_val_pred))\n",
    "print(\"Confusion Matrix\\n \", confusion_matrix(y_val, y_val_pred))"
   ]
  },
  {
   "cell_type": "code",
   "execution_count": 5,
   "metadata": {},
   "outputs": [
    {
     "name": "stdout",
     "output_type": "stream",
     "text": [
      "                   importance\n",
      "times_last5          0.789917\n",
      "uxp_reorder_ratio    0.174556\n",
      "p_reorder_ratio      0.035527\n",
      "uxp_total_bought     0.000000\n",
      "u_total_orders       0.000000\n",
      "u_reordered_ratio    0.000000\n",
      "p_total_purchases    0.000000\n"
     ]
    }
   ],
   "source": [
    "#Feature importance\n",
    "feature_importances_df = pd.DataFrame(model.feature_importances_, index = X_train.columns, columns=['importance']).sort_values('importance',ascending=False)\n",
    "print(feature_importances_df)"
   ]
  },
  {
   "cell_type": "code",
   "execution_count": 8,
   "metadata": {},
   "outputs": [
    {
     "data": {
      "text/plain": [
       "<matplotlib.axes._subplots.AxesSubplot at 0x1a1cb2fe48>"
      ]
     },
     "execution_count": 8,
     "metadata": {},
     "output_type": "execute_result"
    },
    {
     "data": {
      "image/png": "[encoded data removed]",
      "text/plain": [
       "<Figure size 432x288 with 1 Axes>"
      ]
     },
     "metadata": {
      "needs_background": "light"
     },
     "output_type": "display_data"
    }
   ],
   "source": [
    "feat_importances = pd.Series(model.feature_importances_, index=X_train.columns).sort_values()\n",
    "feat_importances.plot(kind='barh')"
   ]
  },
  {
   "cell_type": "code",
   "execution_count": 11,
   "metadata": {},
   "outputs": [],
   "source": [
    "##modeling with different set of features\n",
    "#Feature Selection\n",
    "model2 = SelectFromModel(clf_entropy, prefit=True, max_features=4)\n",
    "feature_idx = model2.get_support()\n",
    "feature_names = data_train.drop('reordered', axis=1).columns[feature_idx]\n",
    "X_NEW = model2.transform(data_train.drop('reordered', axis=1))\n",
    "pd.DataFrame(X_NEW, columns= feature_names)"
   ]
  },
  {
   "cell_type": "code",
   "execution_count": 15,
   "metadata": {},
   "outputs": [
    {
     "name": "stdout",
     "output_type": "stream",
     "text": [
      "F1 Score:  0.40366216042918746\n",
      "Classification Report\n",
      "                precision    recall  f1-score   support\n",
      "\n",
      "         0.0       0.93      0.94      0.94   6117042\n",
      "         1.0       0.42      0.39      0.40    662687\n",
      "\n",
      "    accuracy                           0.89   6779729\n",
      "   macro avg       0.68      0.66      0.67   6779729\n",
      "weighted avg       0.88      0.89      0.89   6779729\n",
      "\n",
      "Confusion Matrix\n",
      "  [[5765214  351828]\n",
      " [ 406149  256538]]\n"
     ]
    }
   ],
   "source": [
    "#modeling with new features\n",
    "X_train2, X_val2, y_train2, y_val2 = train_test_split(X_NEW, data_train.reordered, test_size=0.8, random_state=50)\n",
    "clf_entropy2 = DecisionTreeClassifier( criterion = \"entropy\", random_state = 50, max_depth = 3, min_samples_leaf = 5) \n",
    "model3 = clf_entropy2.fit(X_train2, y_train2) \n",
    "\n",
    "y_val_pred2 = (model3.predict_proba(X_val2)[:,1] >= 0.30).astype(int)\n",
    "\n",
    "print(\"F1 Score: \",f1_score(y_val2, y_val_pred2, average='binary'))\n",
    "print(\"Classification Report\\n \", classification_report(y_val2, y_val_pred2))\n",
    "print(\"Confusion Matrix\\n \", confusion_matrix(y_val2, y_val_pred2))"
   ]
  },
  {
   "cell_type": "code",
   "execution_count": 16,
   "metadata": {},
   "outputs": [
    {
     "name": "stdout",
     "output_type": "stream",
     "text": [
      "                   importance\n",
      "times_last5          0.798359\n",
      "uxp_reorder_ratio    0.201641\n"
     ]
    }
   ],
   "source": [
    "#New Feature importance\n",
    "X_NEW = pd.DataFrame(X_NEW, columns= feature_names)\n",
    "feature_importances_df2 = pd.DataFrame(model3.feature_importances_, index = X_NEW.columns, columns=['importance']).sort_values('importance',ascending=False)\n",
    "print(feature_importances_df2)"
   ]
  },
  {
   "cell_type": "code",
   "execution_count": 17,
   "metadata": {},
   "outputs": [
    {
     "data": {
      "text/plain": [
       "<matplotlib.axes._subplots.AxesSubplot at 0x1a1fb0dc18>"
      ]
     },
     "execution_count": 17,
     "metadata": {},
     "output_type": "execute_result"
    },
    {
     "data": {
      "image/png": "[encoded data removed]",
      "text/plain": [
       "<Figure size 432x288 with 1 Axes>"
      ]
     },
     "metadata": {
      "needs_background": "light"
     },
     "output_type": "display_data"
    }
   ],
   "source": [
    "#Feature Importance Plot\n",
    "feat_importances2 = pd.Series(model3.feature_importances_, index = X_NEW.columns).sort_values()\n",
    "feat_importances2.plot(kind='barh')"
   ]
  },
  {
   "cell_type": "code",
   "execution_count": null,
   "metadata": {},
   "outputs": [],
   "source": []
  }
 ],
 "metadata": {
  "kernelspec": {
   "display_name": "Python 3",
   "language": "python",
   "name": "python3"
  },
  "language_info": {
   "codemirror_mode": {
    "name": "ipython",
    "version": 3
   },
   "file_extension": ".py",
   "mimetype": "text/x-python",
   "name": "python",
   "nbconvert_exporter": "python",
   "pygments_lexer": "ipython3",
   "version": "3.7.3"
  }
 },
 "nbformat": 4,
 "nbformat_minor": 2
}
